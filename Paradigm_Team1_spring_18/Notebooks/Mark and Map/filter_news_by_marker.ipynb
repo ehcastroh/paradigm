{
 "cells": [
  {
   "cell_type": "code",
   "execution_count": 10,
   "metadata": {
    "collapsed": true
   },
   "outputs": [],
   "source": [
    "# Import libraries and Packages\n",
    "import pandas as pd\n",
    "from pandas import DataFrame\n",
    "import numpy as np\n",
    "import datetime as dt\n",
    "from datetime import datetime,tzinfo\n",
    "from pytz import timezone\n",
    "import time\n",
    "import pytz\n",
    "import matplotlib.pyplot as plt\n",
    "from datetime import datetime, timedelta\n",
    "import pprint as pp"
   ]
  },
  {
   "cell_type": "markdown",
   "metadata": {},
   "source": [
    "\n",
    "## Filter news by marker\n",
    "This notebook is intended to perform the following processes:\n",
    "\n",
    "    1.1 Creates marks for mapping statistically significant price changes to news articles within a windown of time\n",
    "\n",
    "___"
   ]
  },
  {
   "cell_type": "code",
   "execution_count": 5,
   "metadata": {},
   "outputs": [
    {
     "data": {
      "text/plain": [
       "0    2018-02-04\n",
       "1    2018-02-05\n",
       "2    2018-02-06\n",
       "3    2018-02-07\n",
       "4    2018-02-08\n",
       "Name: Date, dtype: object"
      ]
     },
     "execution_count": 5,
     "metadata": {},
     "output_type": "execute_result"
    }
   ],
   "source": [
    "marker= pd.read_csv('marker.csv')\n",
    "marker.head()\n",
    "mark=marker['Date']\n",
    "mark.head(5)"
   ]
  },
  {
   "cell_type": "markdown",
   "metadata": {},
   "source": [
    "__Modify datestamp for mapping purposes__"
   ]
  },
  {
   "cell_type": "code",
   "execution_count": 11,
   "metadata": {},
   "outputs": [
    {
     "name": "stdout",
     "output_type": "stream",
     "text": [
      "[datetime.datetime(2018, 2, 4, 0, 0),\n",
      " datetime.datetime(2018, 2, 5, 0, 0),\n",
      " datetime.datetime(2018, 2, 6, 0, 0),\n",
      " datetime.datetime(2018, 2, 7, 0, 0),\n",
      " datetime.datetime(2018, 2, 8, 0, 0)]\n"
     ]
    }
   ],
   "source": [
    "# create list of timestamps according to given datetime parameters\n",
    "array_mark = []\n",
    "for i in range(len(mark)):\n",
    "    date = datetime.strptime(mark[i],'%Y-%m-%d')\n",
    "    array_mark.append(date)\n",
    "pp.pprint(array_mark[0:5])"
   ]
  },
  {
   "cell_type": "markdown",
   "metadata": {},
   "source": [
    "__Allows for a given date range of consideration (+- N days from statistically significant price change)__"
   ]
  },
  {
   "cell_type": "code",
   "execution_count": 12,
   "metadata": {},
   "outputs": [],
   "source": [
    "N = 3\n",
    "days_before=[]\n",
    "days_after=[]\n",
    "for i in range(len(mark)):\n",
    "    date = datetime.strptime(mark[i],'%Y-%m-%d')\n",
    "    days_before.append((date-timedelta(days=N)).isoformat())\n",
    "    days_after.append((date+timedelta(days=N)).isoformat())"
   ]
  },
  {
   "cell_type": "code",
   "execution_count": 18,
   "metadata": {},
   "outputs": [
    {
     "name": "stdout",
     "output_type": "stream",
     "text": [
      "[datetime.datetime(2018, 2, 4, 0, 0),\n",
      " datetime.datetime(2018, 2, 5, 0, 0),\n",
      " datetime.datetime(2018, 2, 6, 0, 0),\n",
      " datetime.datetime(2018, 2, 7, 0, 0),\n",
      " datetime.datetime(2018, 2, 8, 0, 0),\n",
      " datetime.datetime(2018, 2, 9, 0, 0),\n",
      " datetime.datetime(2018, 2, 10, 0, 0),\n",
      " datetime.datetime(2018, 2, 11, 0, 0),\n",
      " datetime.datetime(2018, 2, 12, 0, 0),\n",
      " datetime.datetime(2018, 2, 13, 0, 0)]\n"
     ]
    }
   ],
   "source": [
    "# appends additional days to list -- used for mapping of articles\n",
    "for i in range(len(mark)):\n",
    "    date = datetime.strptime(mark[i],'%Y-%m-%d')\n",
    "    array_mark.append(date-timedelta(days=1))\n",
    "    array_mark.append(date+timedelta(days=1))\n",
    "    array_mark.append(date-timedelta(days=2))\n",
    "    array_mark.append(date+timedelta(days=2))\n",
    "    array_mark.append(date-timedelta(days=3))\n",
    "    array_mark.append(date+timedelta(days=3))\n",
    "pp.pprint(array_mark[:10])"
   ]
  },
  {
   "cell_type": "code",
   "execution_count": 21,
   "metadata": {},
   "outputs": [
    {
     "data": {
      "text/plain": [
       "array([ 1.,  1.,  1.,  1.,  1.,  1.,  1.,  1.])"
      ]
     },
     "execution_count": 21,
     "metadata": {},
     "output_type": "execute_result"
    }
   ],
   "source": [
    "# 1x8 array of 1's\n",
    "np.ones(8)"
   ]
  },
  {
   "cell_type": "markdown",
   "metadata": {},
   "source": [
    "__Mark 'significant' dates__"
   ]
  },
  {
   "cell_type": "code",
   "execution_count": 40,
   "metadata": {},
   "outputs": [
    {
     "name": "stdout",
     "output_type": "stream",
     "text": [
      "        Date  Mark\n",
      "0 2018-02-04   1.0\n",
      "1 2018-02-05   1.0\n",
      "2 2018-02-06   1.0\n",
      "3 2018-02-07   1.0\n",
      "4 2018-02-08   1.0\n"
     ]
    }
   ],
   "source": [
    "# Marking of dates with statistically significant price changes\n",
    "date_mark=pd.DataFrame({'Date':array_mark,\n",
    "                       'Mark':np.ones(len(array_mark))})\n",
    "pp.pprint(date_mark.head())\n",
    "date_mark.to_csv('marked_dates.csv')"
   ]
  },
  {
   "cell_type": "code",
   "execution_count": 46,
   "metadata": {},
   "outputs": [],
   "source": [
    "## checking variable types ##\n",
    "#type(date_mark['Date'][0])  # .Timestamp\n",
    "#type(date_mark['Mark'][0]) # float type"
   ]
  },
  {
   "cell_type": "markdown",
   "metadata": {},
   "source": [
    "__Prepare articles for marking__"
   ]
  },
  {
   "cell_type": "code",
   "execution_count": 27,
   "metadata": {
    "scrolled": true
   },
   "outputs": [],
   "source": [
    "df= pd.read_csv('short')"
   ]
  },
  {
   "cell_type": "code",
   "execution_count": 28,
   "metadata": {},
   "outputs": [
    {
     "data": {
      "text/html": [
       "<div>\n",
       "<style scoped>\n",
       "    .dataframe tbody tr th:only-of-type {\n",
       "        vertical-align: middle;\n",
       "    }\n",
       "\n",
       "    .dataframe tbody tr th {\n",
       "        vertical-align: top;\n",
       "    }\n",
       "\n",
       "    .dataframe thead th {\n",
       "        text-align: right;\n",
       "    }\n",
       "</style>\n",
       "<table border=\"1\" class=\"dataframe\">\n",
       "  <thead>\n",
       "    <tr style=\"text-align: right;\">\n",
       "      <th></th>\n",
       "      <th>Unnamed: 0</th>\n",
       "      <th>author</th>\n",
       "      <th>contents</th>\n",
       "      <th>description</th>\n",
       "      <th>publisher</th>\n",
       "      <th>source_url</th>\n",
       "      <th>title</th>\n",
       "      <th>Date</th>\n",
       "    </tr>\n",
       "  </thead>\n",
       "  <tbody>\n",
       "    <tr>\n",
       "      <th>0</th>\n",
       "      <td>0</td>\n",
       "      <td>Phillip Molnar</td>\n",
       "      <td>A British real estate company Monday launched ...</td>\n",
       "      <td>A British real estate company Monday launched ...</td>\n",
       "      <td>Sandiegouniontribune.com</td>\n",
       "      <td>http://www.sandiegouniontribune.com/business/r...</td>\n",
       "      <td>Purplebricks, flat fee real estate listers, la...</td>\n",
       "      <td>2018-01-09</td>\n",
       "    </tr>\n",
       "    <tr>\n",
       "      <th>1</th>\n",
       "      <td>1</td>\n",
       "      <td>NaN</td>\n",
       "      <td>2018-01-09 —   bbc.com\\t\\n\\t\\nsource article |...</td>\n",
       "      <td>``In parts of the continent - especially comme...</td>\n",
       "      <td>NaN</td>\n",
       "      <td>NaN</td>\n",
       "      <td>Why African millennials can't get enough of Bi...</td>\n",
       "      <td>2018-01-09</td>\n",
       "    </tr>\n",
       "    <tr>\n",
       "      <th>2</th>\n",
       "      <td>2</td>\n",
       "      <td>Associated Press, By Associated Press</td>\n",
       "      <td>NEW YORK — Kodak, which traces its roots to th...</td>\n",
       "      <td>NEW YORK — Kodak, which traces its roots to th...</td>\n",
       "      <td>Bostonherald.com</td>\n",
       "      <td>http://www.bostonherald.com/news/national/2018...</td>\n",
       "      <td>Kodak surges at it becomes latest 'cryptocurre...</td>\n",
       "      <td>2018-01-09</td>\n",
       "    </tr>\n",
       "    <tr>\n",
       "      <th>3</th>\n",
       "      <td>3</td>\n",
       "      <td>NaN</td>\n",
       "      <td>2018-01-09 —   thehill.com\\t\\n\\t\\nsource artic...</td>\n",
       "      <td>``JPMorgan Chase CEO Jamie Dimon has walked ba...</td>\n",
       "      <td>NaN</td>\n",
       "      <td>NaN</td>\n",
       "      <td>Dimon: \"I regret calling bitcoin a fraud\"</td>\n",
       "      <td>2018-01-09</td>\n",
       "    </tr>\n",
       "    <tr>\n",
       "      <th>4</th>\n",
       "      <td>4</td>\n",
       "      <td>NaN</td>\n",
       "      <td>2018-01-09 —   reuters.com\\t\\n\\t\\nsource artic...</td>\n",
       "      <td>``Staff at the regulatory agency \"expressed co...</td>\n",
       "      <td>NaN</td>\n",
       "      <td>NaN</td>\n",
       "      <td>Fund managers say bitcoin ETF proposals withdr...</td>\n",
       "      <td>2018-01-09</td>\n",
       "    </tr>\n",
       "  </tbody>\n",
       "</table>\n",
       "</div>"
      ],
      "text/plain": [
       "   Unnamed: 0                                 author  \\\n",
       "0           0                         Phillip Molnar   \n",
       "1           1                                    NaN   \n",
       "2           2  Associated Press, By Associated Press   \n",
       "3           3                                    NaN   \n",
       "4           4                                    NaN   \n",
       "\n",
       "                                            contents  \\\n",
       "0  A British real estate company Monday launched ...   \n",
       "1  2018-01-09 —   bbc.com\\t\\n\\t\\nsource article |...   \n",
       "2  NEW YORK — Kodak, which traces its roots to th...   \n",
       "3  2018-01-09 —   thehill.com\\t\\n\\t\\nsource artic...   \n",
       "4  2018-01-09 —   reuters.com\\t\\n\\t\\nsource artic...   \n",
       "\n",
       "                                         description  \\\n",
       "0  A British real estate company Monday launched ...   \n",
       "1  ``In parts of the continent - especially comme...   \n",
       "2  NEW YORK — Kodak, which traces its roots to th...   \n",
       "3  ``JPMorgan Chase CEO Jamie Dimon has walked ba...   \n",
       "4  ``Staff at the regulatory agency \"expressed co...   \n",
       "\n",
       "                  publisher  \\\n",
       "0  Sandiegouniontribune.com   \n",
       "1                       NaN   \n",
       "2          Bostonherald.com   \n",
       "3                       NaN   \n",
       "4                       NaN   \n",
       "\n",
       "                                          source_url  \\\n",
       "0  http://www.sandiegouniontribune.com/business/r...   \n",
       "1                                                NaN   \n",
       "2  http://www.bostonherald.com/news/national/2018...   \n",
       "3                                                NaN   \n",
       "4                                                NaN   \n",
       "\n",
       "                                               title        Date  \n",
       "0  Purplebricks, flat fee real estate listers, la...  2018-01-09  \n",
       "1  Why African millennials can't get enough of Bi...  2018-01-09  \n",
       "2  Kodak surges at it becomes latest 'cryptocurre...  2018-01-09  \n",
       "3          Dimon: \"I regret calling bitcoin a fraud\"  2018-01-09  \n",
       "4  Fund managers say bitcoin ETF proposals withdr...  2018-01-09  "
      ]
     },
     "execution_count": 28,
     "metadata": {},
     "output_type": "execute_result"
    }
   ],
   "source": [
    "#Convert Timestamp into separate Date and Time\n",
    "df['Date'] = pd.to_datetime(df['timeStamp']).dt.date\n",
    "\n",
    "del df['timeStamp'] #Delete original datetime column\n",
    "df.head()"
   ]
  },
  {
   "cell_type": "markdown",
   "metadata": {},
   "source": [
    "__Additional Pre-Processing__"
   ]
  },
  {
   "cell_type": "code",
   "execution_count": 33,
   "metadata": {},
   "outputs": [],
   "source": [
    "# datatype coercion of features\n",
    "df.Date = df.Date.astype(str)               \n",
    "date_mark.Date = date_mark.Date.astype(str)"
   ]
  },
  {
   "cell_type": "markdown",
   "metadata": {},
   "source": [
    "__Mark articles according to statistically significant price changes__"
   ]
  },
  {
   "cell_type": "code",
   "execution_count": 35,
   "metadata": {},
   "outputs": [],
   "source": [
    "marked = pd.merge(df,date_mark, how='left', left_on='Date',right_on='Date')"
   ]
  },
  {
   "cell_type": "code",
   "execution_count": 36,
   "metadata": {},
   "outputs": [],
   "source": [
    "# handle missing marks\n",
    "marked.Mark = marked.Mark.fillna(0)"
   ]
  },
  {
   "cell_type": "code",
   "execution_count": 37,
   "metadata": {},
   "outputs": [
    {
     "data": {
      "text/html": [
       "<div>\n",
       "<style scoped>\n",
       "    .dataframe tbody tr th:only-of-type {\n",
       "        vertical-align: middle;\n",
       "    }\n",
       "\n",
       "    .dataframe tbody tr th {\n",
       "        vertical-align: top;\n",
       "    }\n",
       "\n",
       "    .dataframe thead th {\n",
       "        text-align: right;\n",
       "    }\n",
       "</style>\n",
       "<table border=\"1\" class=\"dataframe\">\n",
       "  <thead>\n",
       "    <tr style=\"text-align: right;\">\n",
       "      <th></th>\n",
       "      <th>Unnamed: 0</th>\n",
       "      <th>author</th>\n",
       "      <th>contents</th>\n",
       "      <th>description</th>\n",
       "      <th>publisher</th>\n",
       "      <th>source_url</th>\n",
       "      <th>title</th>\n",
       "      <th>Date</th>\n",
       "      <th>Mark</th>\n",
       "    </tr>\n",
       "  </thead>\n",
       "  <tbody>\n",
       "    <tr>\n",
       "      <th>0</th>\n",
       "      <td>0</td>\n",
       "      <td>Phillip Molnar</td>\n",
       "      <td>A British real estate company Monday launched ...</td>\n",
       "      <td>A British real estate company Monday launched ...</td>\n",
       "      <td>Sandiegouniontribune.com</td>\n",
       "      <td>http://www.sandiegouniontribune.com/business/r...</td>\n",
       "      <td>Purplebricks, flat fee real estate listers, la...</td>\n",
       "      <td>2018-01-09</td>\n",
       "      <td>0.0</td>\n",
       "    </tr>\n",
       "    <tr>\n",
       "      <th>1</th>\n",
       "      <td>1</td>\n",
       "      <td>NaN</td>\n",
       "      <td>2018-01-09 —   bbc.com\\t\\n\\t\\nsource article |...</td>\n",
       "      <td>``In parts of the continent - especially comme...</td>\n",
       "      <td>NaN</td>\n",
       "      <td>NaN</td>\n",
       "      <td>Why African millennials can't get enough of Bi...</td>\n",
       "      <td>2018-01-09</td>\n",
       "      <td>0.0</td>\n",
       "    </tr>\n",
       "    <tr>\n",
       "      <th>2</th>\n",
       "      <td>2</td>\n",
       "      <td>Associated Press, By Associated Press</td>\n",
       "      <td>NEW YORK — Kodak, which traces its roots to th...</td>\n",
       "      <td>NEW YORK — Kodak, which traces its roots to th...</td>\n",
       "      <td>Bostonherald.com</td>\n",
       "      <td>http://www.bostonherald.com/news/national/2018...</td>\n",
       "      <td>Kodak surges at it becomes latest 'cryptocurre...</td>\n",
       "      <td>2018-01-09</td>\n",
       "      <td>0.0</td>\n",
       "    </tr>\n",
       "    <tr>\n",
       "      <th>3</th>\n",
       "      <td>3</td>\n",
       "      <td>NaN</td>\n",
       "      <td>2018-01-09 —   thehill.com\\t\\n\\t\\nsource artic...</td>\n",
       "      <td>``JPMorgan Chase CEO Jamie Dimon has walked ba...</td>\n",
       "      <td>NaN</td>\n",
       "      <td>NaN</td>\n",
       "      <td>Dimon: \"I regret calling bitcoin a fraud\"</td>\n",
       "      <td>2018-01-09</td>\n",
       "      <td>0.0</td>\n",
       "    </tr>\n",
       "    <tr>\n",
       "      <th>4</th>\n",
       "      <td>4</td>\n",
       "      <td>NaN</td>\n",
       "      <td>2018-01-09 —   reuters.com\\t\\n\\t\\nsource artic...</td>\n",
       "      <td>``Staff at the regulatory agency \"expressed co...</td>\n",
       "      <td>NaN</td>\n",
       "      <td>NaN</td>\n",
       "      <td>Fund managers say bitcoin ETF proposals withdr...</td>\n",
       "      <td>2018-01-09</td>\n",
       "      <td>0.0</td>\n",
       "    </tr>\n",
       "  </tbody>\n",
       "</table>\n",
       "</div>"
      ],
      "text/plain": [
       "   Unnamed: 0                                 author  \\\n",
       "0           0                         Phillip Molnar   \n",
       "1           1                                    NaN   \n",
       "2           2  Associated Press, By Associated Press   \n",
       "3           3                                    NaN   \n",
       "4           4                                    NaN   \n",
       "\n",
       "                                            contents  \\\n",
       "0  A British real estate company Monday launched ...   \n",
       "1  2018-01-09 —   bbc.com\\t\\n\\t\\nsource article |...   \n",
       "2  NEW YORK — Kodak, which traces its roots to th...   \n",
       "3  2018-01-09 —   thehill.com\\t\\n\\t\\nsource artic...   \n",
       "4  2018-01-09 —   reuters.com\\t\\n\\t\\nsource artic...   \n",
       "\n",
       "                                         description  \\\n",
       "0  A British real estate company Monday launched ...   \n",
       "1  ``In parts of the continent - especially comme...   \n",
       "2  NEW YORK — Kodak, which traces its roots to th...   \n",
       "3  ``JPMorgan Chase CEO Jamie Dimon has walked ba...   \n",
       "4  ``Staff at the regulatory agency \"expressed co...   \n",
       "\n",
       "                  publisher  \\\n",
       "0  Sandiegouniontribune.com   \n",
       "1                       NaN   \n",
       "2          Bostonherald.com   \n",
       "3                       NaN   \n",
       "4                       NaN   \n",
       "\n",
       "                                          source_url  \\\n",
       "0  http://www.sandiegouniontribune.com/business/r...   \n",
       "1                                                NaN   \n",
       "2  http://www.bostonherald.com/news/national/2018...   \n",
       "3                                                NaN   \n",
       "4                                                NaN   \n",
       "\n",
       "                                               title        Date  Mark  \n",
       "0  Purplebricks, flat fee real estate listers, la...  2018-01-09   0.0  \n",
       "1  Why African millennials can't get enough of Bi...  2018-01-09   0.0  \n",
       "2  Kodak surges at it becomes latest 'cryptocurre...  2018-01-09   0.0  \n",
       "3          Dimon: \"I regret calling bitcoin a fraud\"  2018-01-09   0.0  \n",
       "4  Fund managers say bitcoin ETF proposals withdr...  2018-01-09   0.0  "
      ]
     },
     "execution_count": 37,
     "metadata": {},
     "output_type": "execute_result"
    }
   ],
   "source": [
    "marked.head()"
   ]
  },
  {
   "cell_type": "code",
   "execution_count": 38,
   "metadata": {
    "collapsed": true
   },
   "outputs": [],
   "source": [
    "marked.to_csv('marked_news_short.csv')"
   ]
  },
  {
   "cell_type": "markdown",
   "metadata": {},
   "source": [
    "___"
   ]
  }
 ],
 "metadata": {
  "kernelspec": {
   "display_name": "Python 3",
   "language": "python",
   "name": "python3"
  },
  "language_info": {
   "codemirror_mode": {
    "name": "ipython",
    "version": 3
   },
   "file_extension": ".py",
   "mimetype": "text/x-python",
   "name": "python",
   "nbconvert_exporter": "python",
   "pygments_lexer": "ipython3",
   "version": "3.6.4"
  }
 },
 "nbformat": 4,
 "nbformat_minor": 2
}
