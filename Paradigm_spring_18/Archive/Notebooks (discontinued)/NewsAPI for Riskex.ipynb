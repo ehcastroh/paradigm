{
 "cells": [
  {
   "cell_type": "code",
   "execution_count": 1,
   "metadata": {},
   "outputs": [],
   "source": [
    "####-----------------------------------------------------------------------------####\n",
    "#   title: \"IEOR 135 Group Project -- Data Gathering (Built for RiskEx)\"            #\n",
    "#   author: Elias Castro Hernandez                                                  #\n",
    "#   date: \"March 2018\"                                                              # \n",
    "#   purpose: scrape over website, read, and write data for ML modeling              #\n",
    "####-----------------------------------------------------------------------------####"
   ]
  },
  {
   "cell_type": "code",
   "execution_count": 20,
   "metadata": {},
   "outputs": [],
   "source": [
    "# Import Packages and Libraries\n",
    "import requests # HTTP parser\n",
    "import html5lib\n",
    "\n",
    "# Web parcing, scraping, etc.\n",
    "import bs4 as bs # BeautifulSoup4 \n",
    "import urllib3\n",
    "import re\n",
    "\n",
    "# data frames and math\n",
    "import pandas as pd\n",
    "import numpy as np\n",
    "\n",
    "# Import output related packages \n",
    "import pprint"
   ]
  },
  {
   "cell_type": "code",
   "execution_count": 21,
   "metadata": {},
   "outputs": [
    {
     "data": {
      "text/html": [
       "<style>.container { width:90% !important; }</style>"
      ],
      "text/plain": [
       "<IPython.core.display.HTML object>"
      ]
     },
     "metadata": {},
     "output_type": "display_data"
    }
   ],
   "source": [
    "# stretch Jupyter coding blocks to fit screen\n",
    "from IPython.core.display import display, HTML\n",
    "display(HTML(\"<style>.container { width:90% !important; }</style>\")) \n",
    "\n",
    "# make it run on py2 and py3\n",
    "from __future__ import division, print_function"
   ]
  },
  {
   "cell_type": "markdown",
   "metadata": {},
   "source": [
    "## Read over the following to understand how to use NewsAPI\n",
    "__Get Started__\n",
    "General overview of how to readin using version two of newsapi.\n",
    "\n",
    "https://newsapi.org/docs/get-started\n",
    "\n",
    "__Working with python__\n",
    "Granular details on paraments of newsapi funtions/methods.\n",
    "\n",
    "https://newsapi.org/docs/client-libraries/python\n",
    "\n",
    "__Working with JSON Objects__\n",
    "Overview of JSON objects as they pertain to javascript.\n",
    "\n",
    "https://www.w3schools.com/js/js_json_intro.asp"
   ]
  },
  {
   "cell_type": "code",
   "execution_count": 22,
   "metadata": {},
   "outputs": [
    {
     "name": "stdout",
     "output_type": "stream",
     "text": [
      "<class 'newsapi.newsapi_client.NewsApiClient'>\n"
     ]
    }
   ],
   "source": [
    "### NEWSAPI RELATED ###\n",
    "#Elias' key: \n",
    "ekey = '2bc85776a0c14af6b9937366ad683e2f'\n",
    "\n",
    "# Install API \n",
    "#pip install newsapi-python\n",
    "\n",
    "# Import Client\n",
    "from newsapi import NewsApiClient\n",
    "\n",
    "# Initialize Client (create object)\n",
    "news = NewsApiClient(api_key = ekey)\n",
    "print(type(news))"
   ]
  },
  {
   "cell_type": "markdown",
   "metadata": {},
   "source": [
    "# Accessing NewsAPI Articles\n"
   ]
  },
  {
   "cell_type": "markdown",
   "metadata": {},
   "source": [
    "## Accessing all data in newsapi"
   ]
  },
  {
   "cell_type": "markdown",
   "metadata": {},
   "source": [
    "####    Search every article given a query and starting date"
   ]
  },
  {
   "cell_type": "code",
   "execution_count": 23,
   "metadata": {},
   "outputs": [],
   "source": [
    "# Read in everything\n",
    "url = ('https://newsapi.org/v2/everything?'\n",
    "       'q=bitcoin&'\n",
    "       'from=2018-01-09&'       #yyy-mm-dd\n",
    "       'sortBy=publishedAt&'\n",
    "       'apiKey=2bc85776a0c14af6b9937366ad683e2f')\n",
    "\n",
    "everything = requests.get(url)\n",
    "\n",
    "#pprint.pprint(everything.json())"
   ]
  },
  {
   "cell_type": "markdown",
   "metadata": {},
   "source": [
    "# NOTE:\n",
    "#### The data type of of the object being read is \"class: 'requests.models.Response' \"\n",
    "##### Thus in order to access the content, you have to use the '.json()' method available for the object class\n",
    "\n"
   ]
  },
  {
   "cell_type": "markdown",
   "metadata": {},
   "source": [
    "##### example of how to access JSON values"
   ]
  },
  {
   "cell_type": "code",
   "execution_count": 24,
   "metadata": {},
   "outputs": [
    {
     "name": "stdout",
     "output_type": "stream",
     "text": [
      "<class 'requests.models.Response'>\n",
      "<class 'dict'>\n",
      "<class 'str'> \n",
      " 文|全天候科技 张少华 “基于区块链上的私有中央银行会被不同的国家当做中央银行来使用，以解决一些原本没办法解决的问题”，吴忌寒说，比特大陆非常有兴趣投资那些运用区块链技术的私有中央银行。 这是吴忌寒在3月7日举行的2018华盛顿DC区块链峰会上的演讲内容。他是比特币挖矿巨头比特大陆公司（Bitmain）的创始人，目前比特大陆公司掌握着全球比特币矿池60%的算力。在算力方面一家独大，让吴忌寒有能力影响比特币的命运，正是在他的主导下，比特币去年进行了轰轰烈烈的“硬分叉”运动。 吴忌寒在2018华盛顿DC区块链峰会上演… \n",
      "\n",
      "\n",
      "\n"
     ]
    }
   ],
   "source": [
    "print(type(everything))\n",
    "print(type(everything.json()))\n",
    "\n",
    "# Accessing values\n",
    "example = everything.json()['articles'][0]['description']\n",
    "print(type(example), \"\\n\", example, \"\\n\\n\\n\")"
   ]
  },
  {
   "cell_type": "markdown",
   "metadata": {},
   "source": [
    "#### Get Breaking News (all types)"
   ]
  },
  {
   "cell_type": "code",
   "execution_count": 25,
   "metadata": {},
   "outputs": [],
   "source": [
    "# Read top 20 breaking news and headlines\n",
    "url = ('https://newsapi.org/v2/top-headlines?'\n",
    "       'country=us&'\n",
    "       'apiKey=2bc85776a0c14af6b9937366ad683e2f')\n",
    "breaking = requests.get(url)\n",
    "#pprint.pprint(breaking.json())"
   ]
  },
  {
   "cell_type": "markdown",
   "metadata": {},
   "source": [
    "## Genearal newsapi navigation"
   ]
  },
  {
   "cell_type": "markdown",
   "metadata": {},
   "source": [
    "#### Get Breaking news (by query = 'bitcoin')"
   ]
  },
  {
   "cell_type": "code",
   "execution_count": 26,
   "metadata": {},
   "outputs": [],
   "source": [
    "headlines = news.get_top_headlines(q='bitcoin',                         # Topic -- with quotes (\") for exact match, can handle logial searching AND, OR, NOT\n",
    "                                    language='en')                      # Country\n",
    "#print(headlines)"
   ]
  },
  {
   "cell_type": "markdown",
   "metadata": {},
   "source": [
    "#### Get everything on a topic, from given sources/domains, within a given range"
   ]
  },
  {
   "cell_type": "code",
   "execution_count": 27,
   "metadata": {},
   "outputs": [
    {
     "name": "stdout",
     "output_type": "stream",
     "text": [
      "<class 'dict'>\n"
     ]
    }
   ],
   "source": [
    "# Everything on a topic\n",
    "all_articles = news.get_everything(q='bitcoin',                            # Topic\n",
    "                                    sources='bbc-news,the-verge',          # From sources\n",
    "                                    domains='bbc.co.uk,techcrunch.com',    # From domains (comma separated)\n",
    "                                    from_parameter='2018-01-01',           # Within date range (yyyy-mm-dd)\n",
    "                                    to='2018-03-08',\n",
    "                                    language='en',                         # Language\n",
    "                                    sort_by='publishedAt',                 # sort by relevancy = closely related to q come first; \n",
    "                                                                               # popularity = from popular sources/publishers come first; \n",
    "                                                                               # publishedAt = newest articles come first (defaul)\n",
    "                                    page_size = 100,                        # allow for the number of results to return per page. 20 default, 100 max.\n",
    "                                    page = 1)                               # Use this to page through the results.\n",
    "print(type(all_articles))   \n",
    "#pprint.pprint(all_articles.keys())\n",
    "#print(all_articles)\n",
    "#pprint.pprint(all_articles)"
   ]
  },
  {
   "cell_type": "markdown",
   "metadata": {},
   "source": [
    "#### Get sources for the above, can filter by category"
   ]
  },
  {
   "cell_type": "code",
   "execution_count": 28,
   "metadata": {},
   "outputs": [],
   "source": [
    "# Get sources\n",
    "sources = news.get_sources(category = 'technology')     # Sources index --> https://newsapi.org/sources\n",
    "                                                        # Filter source by topic: business, entertainment, general, health, science, sports, technology. \n",
    "                                                        # Default: all categories\n",
    "#print(type(sources))\n",
    "#print(sources.keys())\n",
    "#pprint.pprint(sources)"
   ]
  },
  {
   "cell_type": "markdown",
   "metadata": {},
   "source": [
    "# JSON to Pandas DataFrame and Back"
   ]
  },
  {
   "cell_type": "markdown",
   "metadata": {},
   "source": [
    "All of the prior were examples of reading, and exploring JSON data files.  For simplicity, it helps if they are converted to pandas dataframe"
   ]
  },
  {
   "cell_type": "code",
   "execution_count": 29,
   "metadata": {},
   "outputs": [
    {
     "name": "stdout",
     "output_type": "stream",
     "text": [
      "<class 'requests.models.Response'>\n"
     ]
    }
   ],
   "source": [
    "# allow work with the data type\n",
    "import json\n",
    "# since interested in 'everything' file:\n",
    "print(type(everything))    #<class 'requests.models.Response'>"
   ]
  },
  {
   "cell_type": "code",
   "execution_count": 30,
   "metadata": {},
   "outputs": [
    {
     "name": "stdout",
     "output_type": "stream",
     "text": [
      "Index(['articles', 'status', 'totalResults'], dtype='object')\n"
     ]
    },
    {
     "data": {
      "text/html": [
       "<div>\n",
       "<style scoped>\n",
       "    .dataframe tbody tr th:only-of-type {\n",
       "        vertical-align: middle;\n",
       "    }\n",
       "\n",
       "    .dataframe tbody tr th {\n",
       "        vertical-align: top;\n",
       "    }\n",
       "\n",
       "    .dataframe thead th {\n",
       "        text-align: right;\n",
       "    }\n",
       "</style>\n",
       "<table border=\"1\" class=\"dataframe\">\n",
       "  <thead>\n",
       "    <tr style=\"text-align: right;\">\n",
       "      <th></th>\n",
       "      <th>articles</th>\n",
       "      <th>status</th>\n",
       "      <th>totalResults</th>\n",
       "    </tr>\n",
       "  </thead>\n",
       "  <tbody>\n",
       "    <tr>\n",
       "      <th>0</th>\n",
       "      <td>{'source': {'id': None, 'name': 'Qq.com'}, 'au...</td>\n",
       "      <td>ok</td>\n",
       "      <td>44832</td>\n",
       "    </tr>\n",
       "    <tr>\n",
       "      <th>1</th>\n",
       "      <td>{'source': {'id': None, 'name': 'Youbrandinc.c...</td>\n",
       "      <td>ok</td>\n",
       "      <td>44832</td>\n",
       "    </tr>\n",
       "    <tr>\n",
       "      <th>2</th>\n",
       "      <td>{'source': {'id': None, 'name': 'Interia.pl'},...</td>\n",
       "      <td>ok</td>\n",
       "      <td>44832</td>\n",
       "    </tr>\n",
       "  </tbody>\n",
       "</table>\n",
       "</div>"
      ],
      "text/plain": [
       "                                            articles status  totalResults\n",
       "0  {'source': {'id': None, 'name': 'Qq.com'}, 'au...     ok         44832\n",
       "1  {'source': {'id': None, 'name': 'Youbrandinc.c...     ok         44832\n",
       "2  {'source': {'id': None, 'name': 'Interia.pl'},...     ok         44832"
      ]
     },
     "execution_count": 30,
     "metadata": {},
     "output_type": "execute_result"
    }
   ],
   "source": [
    "### Method one: by accessing text attribute ###\n",
    "\n",
    "# create text object using .text method from response object\n",
    "txt = everything.text # <class 'str'>\n",
    "\n",
    "# create dictionary object from text object\n",
    "obj = json.loads(txt)                   # <class 'dict'>\n",
    "\n",
    "# convert dictionary to dataframe\n",
    "df1 = pd.DataFrame(obj)                 # <class 'pandas.core.frame.DataFrame'>\n",
    "print(df1.keys())\n",
    "df1.head(3)"
   ]
  },
  {
   "cell_type": "raw",
   "metadata": {},
   "source": []
  },
  {
   "cell_type": "code",
   "execution_count": 31,
   "metadata": {},
   "outputs": [
    {
     "name": "stdout",
     "output_type": "stream",
     "text": [
      "Index(['articles', 'status', 'totalResults'], dtype='object')\n"
     ]
    },
    {
     "data": {
      "text/html": [
       "<div>\n",
       "<style scoped>\n",
       "    .dataframe tbody tr th:only-of-type {\n",
       "        vertical-align: middle;\n",
       "    }\n",
       "\n",
       "    .dataframe tbody tr th {\n",
       "        vertical-align: top;\n",
       "    }\n",
       "\n",
       "    .dataframe thead th {\n",
       "        text-align: right;\n",
       "    }\n",
       "</style>\n",
       "<table border=\"1\" class=\"dataframe\">\n",
       "  <thead>\n",
       "    <tr style=\"text-align: right;\">\n",
       "      <th></th>\n",
       "      <th>articles</th>\n",
       "      <th>status</th>\n",
       "      <th>totalResults</th>\n",
       "    </tr>\n",
       "  </thead>\n",
       "  <tbody>\n",
       "    <tr>\n",
       "      <th>0</th>\n",
       "      <td>{'source': {'id': None, 'name': 'Qq.com'}, 'au...</td>\n",
       "      <td>ok</td>\n",
       "      <td>44832</td>\n",
       "    </tr>\n",
       "    <tr>\n",
       "      <th>1</th>\n",
       "      <td>{'source': {'id': None, 'name': 'Youbrandinc.c...</td>\n",
       "      <td>ok</td>\n",
       "      <td>44832</td>\n",
       "    </tr>\n",
       "    <tr>\n",
       "      <th>2</th>\n",
       "      <td>{'source': {'id': None, 'name': 'Interia.pl'},...</td>\n",
       "      <td>ok</td>\n",
       "      <td>44832</td>\n",
       "    </tr>\n",
       "  </tbody>\n",
       "</table>\n",
       "</div>"
      ],
      "text/plain": [
       "                                            articles status  totalResults\n",
       "0  {'source': {'id': None, 'name': 'Qq.com'}, 'au...     ok         44832\n",
       "1  {'source': {'id': None, 'name': 'Youbrandinc.c...     ok         44832\n",
       "2  {'source': {'id': None, 'name': 'Interia.pl'},...     ok         44832"
      ]
     },
     "execution_count": 31,
     "metadata": {},
     "output_type": "execute_result"
    }
   ],
   "source": [
    "### Method 2: using methods to extract values as lists ###\n",
    "\n",
    "# create list object from response object\n",
    "obj = list(everything.json().items())   #everything.json()                is class: 'dict'\n",
    "                                        #everything.json().items()        is class: 'dict_items'\n",
    "                                        #list(everything.json().items())  is class: 'list'\n",
    "\n",
    "# convert set of lists into dictionary\n",
    "df = pd.DataFrame(dict(obj))            #<class 'pandas.core.frame.DataFrame'>\n",
    "\n",
    "print(df.keys())\n",
    "df.head(3)"
   ]
  },
  {
   "cell_type": "markdown",
   "metadata": {},
   "source": [
    "## Write out to JSON"
   ]
  },
  {
   "cell_type": "code",
   "execution_count": 32,
   "metadata": {},
   "outputs": [
    {
     "data": {
      "text/plain": [
       "'/home/elias/Desktop/IEOR 135/riskex/WebScraping'"
      ]
     },
     "execution_count": 32,
     "metadata": {},
     "output_type": "execute_result"
    }
   ],
   "source": [
    "## Ensure file is writen do desired directory\n",
    "import os\n",
    "# check \n",
    "os.getcwd()\n",
    "# change\n",
    "#os.chdir(\"home/Users/yourname/folder1/folder2/etc\")"
   ]
  },
  {
   "cell_type": "code",
   "execution_count": 33,
   "metadata": {},
   "outputs": [],
   "source": [
    "### Method 3: serialize into JSON and write out\n",
    "# want to write out 'everything' pass a dictionary as paramenter NOT a dataframe\n",
    "\n",
    "serializeddata = json.dumps(obj)\n",
    "\n",
    "## to write to a textfile named \"whatever\":\n",
    "f = open(\"2mo_webapi_riskex.json\", \"w\")\n",
    "f.write(serializeddata)\n",
    "f.close()\n"
   ]
  },
  {
   "cell_type": "markdown",
   "metadata": {},
   "source": [
    "### If reading a JSON file"
   ]
  },
  {
   "cell_type": "code",
   "execution_count": 34,
   "metadata": {},
   "outputs": [
    {
     "ename": "SyntaxError",
     "evalue": "invalid syntax (<ipython-input-34-1b2c6901c809>, line 1)",
     "output_type": "error",
     "traceback": [
      "\u001b[0;36m  File \u001b[0;32m\"<ipython-input-34-1b2c6901c809>\"\u001b[0;36m, line \u001b[0;32m1\u001b[0m\n\u001b[0;31m    2mo_webapi_riskex.json create object\u001b[0m\n\u001b[0m                    ^\u001b[0m\n\u001b[0;31mSyntaxError\u001b[0m\u001b[0;31m:\u001b[0m invalid syntax\n"
     ]
    }
   ],
   "source": [
    "2mo_webapi_riskex.json create object\n",
    "data_file = \"2mo_webapi_riskex.json\"\n",
    "\n",
    "# extract JSON objects as lists\n",
    "with open(data_file) as f:\n",
    "    data = json.load(f) \n",
    "\n",
    "# convert set of lists into dictionary\n",
    "df = pd.DataFrame(dict(data))"
   ]
  },
  {
   "cell_type": "code",
   "execution_count": 167,
   "metadata": {},
   "outputs": [
    {
     "data": {
      "text/html": [
       "<div>\n",
       "<style scoped>\n",
       "    .dataframe tbody tr th:only-of-type {\n",
       "        vertical-align: middle;\n",
       "    }\n",
       "\n",
       "    .dataframe tbody tr th {\n",
       "        vertical-align: top;\n",
       "    }\n",
       "\n",
       "    .dataframe thead th {\n",
       "        text-align: right;\n",
       "    }\n",
       "</style>\n",
       "<table border=\"1\" class=\"dataframe\">\n",
       "  <thead>\n",
       "    <tr style=\"text-align: right;\">\n",
       "      <th></th>\n",
       "      <th>articles</th>\n",
       "      <th>status</th>\n",
       "      <th>totalResults</th>\n",
       "    </tr>\n",
       "  </thead>\n",
       "  <tbody>\n",
       "    <tr>\n",
       "      <th>0</th>\n",
       "      <td>{'source': {'id': None, 'name': 'Python.org'},...</td>\n",
       "      <td>ok</td>\n",
       "      <td>44813</td>\n",
       "    </tr>\n",
       "    <tr>\n",
       "      <th>1</th>\n",
       "      <td>{'source': {'id': None, 'name': 'Apkmirror.com...</td>\n",
       "      <td>ok</td>\n",
       "      <td>44813</td>\n",
       "    </tr>\n",
       "    <tr>\n",
       "      <th>2</th>\n",
       "      <td>{'source': {'id': None, 'name': 'Youbrandinc.c...</td>\n",
       "      <td>ok</td>\n",
       "      <td>44813</td>\n",
       "    </tr>\n",
       "  </tbody>\n",
       "</table>\n",
       "</div>"
      ],
      "text/plain": [
       "                                            articles status  totalResults\n",
       "0  {'source': {'id': None, 'name': 'Python.org'},...     ok         44813\n",
       "1  {'source': {'id': None, 'name': 'Apkmirror.com...     ok         44813\n",
       "2  {'source': {'id': None, 'name': 'Youbrandinc.c...     ok         44813"
      ]
     },
     "execution_count": 167,
     "metadata": {},
     "output_type": "execute_result"
    }
   ],
   "source": [
    "df.head(3)"
   ]
  },
  {
   "cell_type": "code",
   "execution_count": null,
   "metadata": {},
   "outputs": [],
   "source": []
  }
 ],
 "metadata": {
  "kernelspec": {
   "display_name": "Python 3",
   "language": "python",
   "name": "python3"
  },
  "language_info": {
   "codemirror_mode": {
    "name": "ipython",
    "version": 3
   },
   "file_extension": ".py",
   "mimetype": "text/x-python",
   "name": "python",
   "nbconvert_exporter": "python",
   "pygments_lexer": "ipython3",
   "version": "3.6.4"
  }
 },
 "nbformat": 4,
 "nbformat_minor": 2
}
